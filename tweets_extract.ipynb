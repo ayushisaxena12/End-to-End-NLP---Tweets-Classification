{
 "cells": [
  {
   "cell_type": "code",
   "execution_count": 2,
   "id": "61b5263b",
   "metadata": {},
   "outputs": [],
   "source": [
    "import requests\n",
    "import numpy as np\n",
    "import pandas as pd\n",
    "import json"
   ]
  },
  {
   "cell_type": "code",
   "execution_count": 3,
   "id": "5a76d55b",
   "metadata": {},
   "outputs": [],
   "source": [
    "def getData(query,next_token=None):\n",
    "    url = \"https://api.twitter.com/2/tweets/search/all?\"\n",
    "    headers = {\n",
    "    'Authorization':'Bearer'\n",
    "    }\n",
    "    params = {\n",
    "    'start_time': '2001-11-01T00:00:36.000Z',\n",
    "    'end_time': '2021-11-01T23:59:36.000Z',\n",
    "    'tweet.fields': 'id,author_id,text,lang',\n",
    "    'max_results':'500',\n",
    "    'query':query,\n",
    "    }\n",
    "    if next_token is not None:\n",
    "        params['next_token'] = next_token\n",
    "    \n",
    "    r = requests.get(url=url,params=params, headers=headers)\n",
    "    return r.json()"
   ]
  },
  {
   "cell_type": "code",
   "execution_count": null,
   "id": "b7597223",
   "metadata": {
    "scrolled": true
   },
   "outputs": [],
   "source": [
    "import time\n",
    "total_data = 0 \n",
    "collection = []\n",
    "callCount = 0\n",
    "hasNextToken = None\n",
    "next_token = None\n",
    "query = \"(Fast fashion climate change)\"\n",
    "\n",
    "while (hasNextToken is None) or (hasNextToken is True):\n",
    "    if hasNextToken is None:\n",
    "        response = getData(query)\n",
    "    elif hasNextToken == True:\n",
    "        time.sleep(1)\n",
    "        response = getData(query,next_token)\n",
    "    \n",
    "    response_data = response['data']\n",
    "    response_meta = response['meta']\n",
    "    collection.clear()\n",
    "    collection.extend(response_data)\n",
    "    \n",
    "    callCount += 1\n",
    "        \n",
    "    if 'next_token' not in response_meta.keys():\n",
    "        hasNextToken = False        \n",
    "        print(\"REACHED END OF DATA\", callCount)\n",
    "    else:\n",
    "        next_token = response_meta['next_token']\n",
    "        hasNextToken = True\n",
    "        \n",
    "    tweet_data = pd.DataFrame(collection)\n",
    "    name_file_csv = 'C:\\\\Users\\\\ayush\\\\OneDrive\\\\Desktop\\\\DataScience\\\\DataMining\\\\EndProject\\\\tweets\\\\fastfashion\\\\november\\\\fastfashion' + str(callCount) + '.csv' \n",
    "    tweet_data.to_csv(name_file_csv, mode='w',index = False)\n",
    "    n = len(tweet_data)\n",
    "    total_data = total_data + n\n",
    "    tweet_data.drop(axis=0, labels = range(0,n), inplace=True)\n",
    "\n",
    "    if callCount % 299 == 0:\n",
    "        print(\"Sleeping for few minutes\",callCount, \"calls made.\")\n",
    "        if callCount >= 2093:\n",
    "            break\n",
    "        time.sleep(950)"
   ]
  },
  {
   "cell_type": "code",
   "execution_count": 7,
   "id": "0a9fb9ab",
   "metadata": {},
   "outputs": [
    {
     "name": "stdout",
     "output_type": "stream",
     "text": [
      "total data fetched : 69905\n"
     ]
    }
   ],
   "source": [
    "print(\"total data fetched :\", total_data)"
   ]
  },
  {
   "cell_type": "code",
   "execution_count": null,
   "id": "03fe6625",
   "metadata": {},
   "outputs": [],
   "source": []
  }
 ],
 "metadata": {
  "kernelspec": {
   "display_name": "Python 3 (ipykernel)",
   "language": "python",
   "name": "python3"
  },
  "language_info": {
   "codemirror_mode": {
    "name": "ipython",
    "version": 3
   },
   "file_extension": ".py",
   "mimetype": "text/x-python",
   "name": "python",
   "nbconvert_exporter": "python",
   "pygments_lexer": "ipython3",
   "version": "3.8.8"
  }
 },
 "nbformat": 4,
 "nbformat_minor": 5
}
